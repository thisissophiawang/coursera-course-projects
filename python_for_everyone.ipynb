{
  "nbformat": 4,
  "nbformat_minor": 0,
  "metadata": {
    "colab": {
      "name": "python for everyone",
      "provenance": [],
      "authorship_tag": "ABX9TyPrfdWiQn/tLiA0aFFNqxgT",
      "include_colab_link": true
    },
    "kernelspec": {
      "name": "python3",
      "display_name": "Python 3"
    },
    "language_info": {
      "name": "python"
    }
  },
  "cells": [
    {
      "cell_type": "markdown",
      "metadata": {
        "id": "view-in-github",
        "colab_type": "text"
      },
      "source": [
        "<a href=\"https://colab.research.google.com/github/thisissophiawang/thisissophiawang/blob/main/python_for_everyone.ipynb\" target=\"_parent\"><img src=\"https://colab.research.google.com/assets/colab-badge.svg\" alt=\"Open In Colab\"/></a>"
      ]
    },
    {
      "cell_type": "markdown",
      "source": [
        "# Python for Everyone - University of Michigan\n",
        "# Session1 : Getting Started with Python \n",
        "\n"
      ],
      "metadata": {
        "id": "qnksqI870m8e"
      }
    },
    {
      "cell_type": "code",
      "source": [
        "print('Hello,World')\n"
      ],
      "metadata": {
        "id": "-YMIqIiS8opM",
        "outputId": "287134b3-ae9e-4603-8c00-f81e9e0512ae",
        "colab": {
          "base_uri": "https://localhost:8080/"
        }
      },
      "execution_count": null,
      "outputs": [
        {
          "output_type": "stream",
          "name": "stdout",
          "text": [
            "Hello,World\n"
          ]
        }
      ]
    },
    {
      "cell_type": "code",
      "source": [
        "print(\"123\" + \"abc\")"
      ],
      "metadata": {
        "colab": {
          "base_uri": "https://localhost:8080/"
        },
        "id": "E2hdWe_N_p6B",
        "outputId": "1fafc702-6636-4b6a-b785-5780455d6f7e"
      },
      "execution_count": null,
      "outputs": [
        {
          "output_type": "stream",
          "name": "stdout",
          "text": [
            "123abc\n"
          ]
        }
      ]
    },
    {
      "cell_type": "code",
      "source": [
        "#assignment 2.2\n",
        "# The code below almost works\n",
        "\n",
        "name = input(\"Enter your name\")\n",
        "print(\"Hello\"+' '+name)\n",
        "\n",
        "#ans:\n",
        "name = raw_input(\"Enter your name\")\n",
        "print (\"Hello\" + ' ' + name) # 'space' to add space between words, and () to make python 3 print statement"
      ],
      "metadata": {
        "id": "gcQ8Tos-CO37"
      },
      "execution_count": null,
      "outputs": []
    },
    {
      "cell_type": "markdown",
      "source": [
        "2.3 Write a program to prompt the user for hours and rate per hour using input to compute gross pay. Use 35 hours and a rate of 2.75 per hour to test the program (the pay should be 96.25). You should use input to read a string and float() to convert the string to a number. Do not worry about error checking or bad user data."
      ],
      "metadata": {
        "id": "Ed0wIwmBDiMg"
      }
    },
    {
      "cell_type": "code",
      "source": [
        "#assignment 2.3\n",
        "\n",
        "# This first line is provided for you\n",
        "hrs = input(\"Enter Hours:\")\n",
        "\n",
        "rate=input (\"Enter Rate:\")\n",
        "\n",
        "hrs=float(hrs)\n",
        "rate=float(rate)\n",
        "\n",
        "pay=hrs*rate\n",
        "\n",
        "print (\"Pay:\",pay)\n",
        "\n"
      ],
      "metadata": {
        "id": "G-P7hR_YCdgV"
      },
      "execution_count": null,
      "outputs": []
    },
    {
      "cell_type": "code",
      "source": [
        "#quiz 3.1\n",
        "x = 0\n",
        "if x < 2 :\n",
        "    print('Small')\n",
        "elif x < 10 :\n",
        "    print('Medium')\n",
        "else :\n",
        "    print('LARGE')\n",
        "print('All done')"
      ],
      "metadata": {
        "colab": {
          "base_uri": "https://localhost:8080/"
        },
        "id": "ATAOKK_usoXz",
        "outputId": "7fdc4f0c-bf12-40cf-9a41-771f80ef5e3e"
      },
      "execution_count": null,
      "outputs": [
        {
          "output_type": "stream",
          "name": "stdout",
          "text": [
            "Small\n",
            "All done\n"
          ]
        }
      ]
    },
    {
      "cell_type": "markdown",
      "source": [
        "3.1 Write a program to prompt the user for hours and rate per hour using input to compute gross pay. Pay the hourly rate for the hours up to 40 and 1.5 times the hourly rate for all hours worked above 40 hours. Use 45 hours and a rate of 10.50 per hour to test the program (the pay should be 498.75). You should use input to read a string and float() to convert the string to a number. Do not worry about error checking the user input - assume the user types numbers properly."
      ],
      "metadata": {
        "id": "Ealbl4hOta0Q"
      }
    },
    {
      "cell_type": "code",
      "source": [
        "hrs = input(\"Enter Hours:\")\n",
        "h = float(hrs)\n",
        "\n",
        "rate=input(\"Enter Rate:\")\n",
        "rate=float(rate)\n",
        "\n",
        "if h<= 40:\n",
        "  pay=h*rate\n",
        "elif h> 40:\n",
        "  pay=1.5*(h-40)*rate+40*rate\n",
        "\n",
        "print (pay)"
      ],
      "metadata": {
        "id": "Mxu8N0Rctcre"
      },
      "execution_count": null,
      "outputs": []
    },
    {
      "cell_type": "code",
      "source": [
        "#professor answer:\n",
        "sh=input(\"Enter Hours:\")\n",
        "sr=input(\"Enter Rate\")\n",
        "try:\n",
        "  fh=float(sh)\n",
        "  fr=float(sr)\n",
        "except:\n",
        "  print(\"Error,please enter numeric input\")\n",
        "\n",
        "print (fh,fr)\n",
        "if fh>40:\n",
        "   reg=fr*fh\n",
        "   otp=(fh-40)*(fr*0.5)\n",
        "   xp=reg+otp\n",
        "else:\n",
        "  xp=fh*fr\n",
        "print(\"Pay:\",xp)\n"
      ],
      "metadata": {
        "id": "_sOhxBgAyhqT"
      },
      "execution_count": null,
      "outputs": []
    },
    {
      "cell_type": "markdown",
      "source": [
        "3.3 Write a program to prompt for a score between 0.0 and 1.0. If the score is out of range, print an error. If the score is between 0.0 and 1.0, print a grade using the following table:\n",
        "Score Grade\n",
        ">= 0.9 A\n",
        "\n",
        ">= 0.8 B\n",
        "\n",
        ">= 0.7 C\n",
        "\n",
        ">= 0.6 D\n",
        "\n",
        "< 0.6 F\n",
        "\n",
        "If the user enters a value out of range, print a suitable error message and exit. For the test, enter a score of 0.85."
      ],
      "metadata": {
        "id": "mWYQgX325Ugf"
      }
    },
    {
      "cell_type": "code",
      "source": [
        "#example : score = input(\"Enter Score: \")\n",
        "number = raw_input(\"Enter number:\")\n",
        "\n",
        "try:\n",
        "    number = float(number)\n",
        "except:\n",
        "    number = -1\n",
        "\n",
        "if number >= 0.9:\n",
        "    print(\"A\")\n",
        "elif number >= 0.8:\n",
        "    print (\"B\")\n",
        "elif number >= 0.7:\n",
        "    print (\"C\")\n",
        "elif number >= 0.6:\n",
        "    print (\"D\")\n",
        "elif number < 0.6:\n",
        "    print (\"F\")\n",
        "else:\n",
        "    print (\"Error!\")\n",
        "    quit()"
      ],
      "metadata": {
        "id": "jIBCplc35V_o"
      },
      "execution_count": null,
      "outputs": []
    },
    {
      "cell_type": "markdown",
      "source": [
        "4.6 Write a program to prompt the user for hours and rate per hour using input to compute gross pay. Pay should be the normal rate for hours up to 40 and time-and-a-half for the hourly rate for all hours worked above 40 hours. Put the logic to do the computation of pay in a function called computepay() and use the function to do the computation. The function should return a value. Use 45 hours and a rate of 10.50 per hour to test the program (the pay should be 498.75). You should use input to read a string and float() to convert the string to a number. Do not worry about error checking the user input unless you want to - you can assume the user types numbers properly. Do not name your variable sum or use the sum() function."
      ],
      "metadata": {
        "id": "n6YwhJOtnZUD"
      }
    },
    {
      "cell_type": "code",
      "source": [
        "#example:\n",
        "def computepay(h, r):\n",
        "    return 42.37\n",
        "\n",
        "hrs = input(\"Enter Hours:\")\n",
        "p = computepay(10, 20)\n",
        "print(\"Pay\", p)"
      ],
      "metadata": {
        "id": "He1V1D6qncYw"
      },
      "execution_count": null,
      "outputs": []
    },
    {
      "cell_type": "code",
      "source": [
        "def computepay(h,r):\n",
        "    if h > 40:\n",
        "        return (40*r)+(h-40)*(r*1.5)\n",
        "    else:\n",
        "        return h*r\n",
        "\n",
        "hrs = raw_input(\"Enter Hours:\")\n",
        "rate = raw_input(\"Enter Rate:\")\n",
        "\n",
        "hrs = float(hrs)\n",
        "rate = float(rate)\n",
        "\n",
        "P = computepay(hrs, rate)\n",
        "\n",
        "print (\"Pay\",P)"
      ],
      "metadata": {
        "id": "CLtQIP5GoVvY"
      },
      "execution_count": null,
      "outputs": []
    },
    {
      "cell_type": "code",
      "source": [
        "#quiz 5\n",
        "tot = 0 \n",
        "for i in [5, 4, 3, 2, 1] :\n",
        "    tot = tot + 1\n",
        "print(tot)"
      ],
      "metadata": {
        "colab": {
          "base_uri": "https://localhost:8080/"
        },
        "id": "7W_KJjl7BlxX",
        "outputId": "f3c0e159-67bf-4bd7-d299-590c1662a11b"
      },
      "execution_count": null,
      "outputs": [
        {
          "output_type": "stream",
          "name": "stdout",
          "text": [
            "5\n"
          ]
        }
      ]
    },
    {
      "cell_type": "markdown",
      "source": [
        "Chapter 5 assignment    \n",
        "5.1 write a program using **try** and **except**\n",
        "\n",
        "*   enter a number:4\n",
        "*   enter a number:5\n",
        "*   Enter a number: bad data\n",
        "*   Invaild input\n",
        "*   enter a number:7\n",
        "*   enter a number:done\n",
        "*   16 3 5.3333333333333"
      ],
      "metadata": {
        "id": "V2WvRE4PCXuz"
      }
    },
    {
      "cell_type": "code",
      "source": [
        "print('Five')\n",
        "\n",
        "num=0\n",
        "tot=0.0\n",
        "while True: \n",
        "    sval=input('Enter a number:')\n",
        "    if sval==\"done\":\n",
        "       break\n",
        "    try:\n",
        "      fval=float(sval)\n",
        "    except:\n",
        "      print(\"Invaild input\")\n",
        "      continue\n",
        "    #print(fval)\n",
        "    num=num+1\n",
        "    tot=tot+fval\n",
        "\n",
        "#print(\"ALL DONE\")\n",
        "print(tot,num,tot/num)"
      ],
      "metadata": {
        "id": "9NkFpi65S3RM"
      },
      "execution_count": null,
      "outputs": []
    },
    {
      "cell_type": "markdown",
      "source": [
        "5.2 Write a program that repeatedly prompts a user for integer numbers until the user enters 'done'. Once 'done' is entered, print out the largest and smallest of the numbers. If the user enters anything other than a valid number catch it with a try/except and put out an appropriate message and ignore the number. Enter 7, 2, bob, 10, and 4 and match the output below."
      ],
      "metadata": {
        "id": "498pkCTnSoR4"
      }
    },
    {
      "cell_type": "code",
      "source": [
        "#example:\n",
        "largest = None\n",
        "smallest = None\n",
        "while True:\n",
        "    num = input(\"Enter a number: \")\n",
        "    if num == \"done\":\n",
        "        break\n",
        "    print(num)\n",
        "\n",
        "print(\"Maximum\", largest)"
      ],
      "metadata": {
        "id": "lJq7lrW9SqNp"
      },
      "execution_count": null,
      "outputs": []
    },
    {
      "cell_type": "code",
      "source": [
        "largest = None\n",
        "smallest = None\n",
        "\n",
        "while True:\n",
        "    try:\n",
        "        num = input(\"Enter a number: \")\n",
        "        if num == 'done':\n",
        "            break\n",
        "        num = int(num)\n",
        "        if largest is None or num > largest:\n",
        "            largest = num\n",
        "        elif smallest is None or num < smallest:\n",
        "            smallest = num\n",
        "\n",
        "    except:\n",
        "        print(\"Invalid input\")\n",
        "        continue\n",
        "\n",
        "print(\"Maximum is\", largest)\n",
        "print(\"Minimum is\", smallest)\n",
        "\n",
        "#enter 7,2,bob,10,4"
      ],
      "metadata": {
        "id": "Ypqx5AwnmYMu"
      },
      "execution_count": null,
      "outputs": []
    },
    {
      "cell_type": "markdown",
      "source": [
        "# **Session 2 : Data Structure**\n",
        "\n",
        "\n",
        "\n"
      ],
      "metadata": {
        "id": "9mOmX9Joohrr"
      }
    },
    {
      "cell_type": "markdown",
      "source": [
        "chapter 6 quiz"
      ],
      "metadata": {
        "id": "6Q1EaafgnJ-W"
      }
    },
    {
      "cell_type": "code",
      "source": [
        "for letter in 'banana' :\n",
        "    print(letter)"
      ],
      "metadata": {
        "id": "AE15wxtapppE",
        "colab": {
          "base_uri": "https://localhost:8080/"
        },
        "outputId": "a3e671a6-bab4-4712-b466-6b102e00bec8"
      },
      "execution_count": null,
      "outputs": [
        {
          "output_type": "stream",
          "name": "stdout",
          "text": [
            "b\n",
            "a\n",
            "n\n",
            "a\n",
            "n\n",
            "a\n"
          ]
        }
      ]
    },
    {
      "cell_type": "code",
      "source": [
        "print(len('banana')*7)"
      ],
      "metadata": {
        "colab": {
          "base_uri": "https://localhost:8080/"
        },
        "id": "JIm2mUXOoav5",
        "outputId": "fda0a48d-84b0-4bee-def1-c3fa667f5fa8"
      },
      "execution_count": null,
      "outputs": [
        {
          "output_type": "stream",
          "name": "stdout",
          "text": [
            "42\n"
          ]
        }
      ]
    },
    {
      "cell_type": "markdown",
      "source": [
        "6.5 Write code using find() and string slicing (see section 6.10) to extract the number at the end of the line below. Convert the extracted value to a floating point number and print it out."
      ],
      "metadata": {
        "id": "vIF5FHWppg80"
      }
    },
    {
      "cell_type": "code",
      "source": [
        "#example: text = \"X-DSPAM-Confidence:    0.8475\"\n",
        "#descired output: 0.8475\n",
        "\n",
        "text = \"X-DSPAM-Confidence:    0.8475\";\n",
        "str='X-DSPAM-Confidence:0.8475'\n",
        "ipos=str.find(':')\n",
        "#print(ipos)\n",
        "piece=str[ipos+2:]\n",
        "#print(piece)\n",
        "value=float(piece)\n",
        "print(value)"
      ],
      "metadata": {
        "colab": {
          "base_uri": "https://localhost:8080/"
        },
        "id": "tQMrzoyKphWv",
        "outputId": "e5d652c1-4cf2-4d7c-8354-c43dff7b044c"
      },
      "execution_count": null,
      "outputs": [
        {
          "output_type": "stream",
          "name": "stdout",
          "text": [
            "0.8475\n"
          ]
        }
      ]
    },
    {
      "cell_type": "code",
      "source": [
        "#professor example\n",
        "text = \"X-DSPAM-Confidence:    0.8475\";\n",
        "\n",
        "ipos=str.find(':')\n",
        "print(ipos)\n",
        "piece=str[ipos+1:]\n",
        "print(piece)\n",
        "value=float(piece)\n",
        "print(value)\n"
      ],
      "metadata": {
        "colab": {
          "base_uri": "https://localhost:8080/"
        },
        "id": "ex3Nmwy3uufi",
        "outputId": "59b34c6e-f729-450a-b7da-bb8f51542309"
      },
      "execution_count": null,
      "outputs": [
        {
          "output_type": "stream",
          "name": "stdout",
          "text": [
            "18\n",
            "0.8475\n",
            "0.8475\n"
          ]
        }
      ]
    },
    {
      "cell_type": "markdown",
      "source": [
        "7.1 Write a program that prompts for a file name, then opens that file and reads through the file, and print the contents of the file in upper case. Use the file words.txt to produce the output below.\n",
        "You can download the sample data at http://www.py4e.com/code3/words.txt"
      ],
      "metadata": {
        "id": "G0zrr5r0WX3a"
      }
    },
    {
      "cell_type": "code",
      "source": [
        "#example:# Use words.txt as the file name\n",
        "fname = input(\"Enter file name: \")\n",
        "fh = open(fname)\n",
        "\n",
        "Desired code:WRITING PROGRAMS OR PROGRAMMING IS A VERY CREATIVE\n",
        "AND REWARDING ACTIVITY  YOU CAN WRITE PROGRAMS FOR\n",
        "MANY REASONS RANGING FROM MAKING YOUR LIVING TO SOLVING\n",
        "A DIFFICULT DATA ANALYSIS PROBLEM TO HAVING FUN TO HELPING\n",
        "SOMEONE ELSE SOLVE A PROBLEM  THIS BOOK ASSUMES THAT\n",
        "{\\EM EVERYONE} NEEDS TO KNOW HOW TO PROGRAM AND THAT ONCE\n",
        "YOU KNOW HOW TO PROGRAM, YOU WILL FIGURE OUT WHAT YOU WANT\n",
        "TO DO WITH YOUR NEWFOUND SKILLS\n",
        "\n",
        "WE ARE SURROUNDED IN OUR DAILY LIVES WITH COMPUTERS RANGING\n",
        "FROM LAPTOPS TO CELL PHONES  WE CAN THINK OF THESE COMPUTERS\n",
        "AS OUR PERSONAL ASSISTANTS WHO CAN TAKE CARE OF MANY THINGS\n",
        "ON OUR BEHALF  THE HARDWARE IN OUR CURRENT-DAY COMPUTERS\n",
        "IS ESSENTIALLY BUILT TO CONTINUOUSLY AS US THE QUESTION\n",
        "WHAT WOULD YOU LIKE ME TO DO NEXT\n",
        "\n",
        "OUR COMPUTERS ARE FAST AND HAVE VASTS AMOUNTS OF MEMORY AND\n",
        "COULD BE VERY HELPFUL TO US IF WE ONLY KNEW THE LANGUAGE TO\n",
        "SPEAK TO EXPLAIN TO THE COMPUTER WHAT WE WOULD LIKE IT TO\n",
        "DO NEXT IF WE KNEW THIS LANGUAGE WE COULD TELL THE\n",
        "COMPUTER TO DO TASKS ON OUR BEHALF THAT WERE REPTITIVE\n",
        "INTERESTINGLY, THE KINDS OF THINGS COMPUTERS CAN DO BEST\n",
        "ARE OFTEN THE KINDS OF THINGS THAT WE HUMANS FIND BORING\n",
        "AND MIND-NUMBING"
      ],
      "metadata": {
        "id": "5OAFbNpGWYUG"
      },
      "execution_count": null,
      "outputs": []
    },
    {
      "cell_type": "code",
      "source": [
        "# Use words.txt as the file name\n",
        "fname = input(\"Enter file name: \")\n",
        "fh = open(fname,'r')\n",
        "for i in fh.readlines():\n",
        " print(i.upper().rstrip())"
      ],
      "metadata": {
        "id": "vHsO9FL0g77K"
      },
      "execution_count": null,
      "outputs": []
    },
    {
      "cell_type": "code",
      "source": [
        "#professor\n",
        "fh=open('mbox-short.txt')\n",
        "\n",
        "for lx in fh:\n",
        "  ly=lx.rstrip()\n",
        "  print(ly,upper())"
      ],
      "metadata": {
        "id": "7DVr66tva9Q-"
      },
      "execution_count": null,
      "outputs": []
    },
    {
      "cell_type": "markdown",
      "source": [
        "7.2 Write a program that prompts for a file name, then opens that file and reads through the file, looking for lines of the form:\n",
        "\n",
        "**X-DSPAM-Confidence:    0.8475**\n",
        "\n",
        "Count these lines and extract the floating point values from each of the lines and compute the average of those values and produce an output as shown below. Do not use the sum() function or a variable named sum in your solution.\n",
        "You can download the sample data at http://www.py4e.com/code3/mbox-short.txt when you are testing below enter mbox-short.txt as the file name."
      ],
      "metadata": {
        "id": "xX3eZ-jehFE_"
      }
    },
    {
      "cell_type": "code",
      "source": [
        "#example:\n",
        "# Use the file name mbox-short.txt as the file name\n",
        "fname = input(\"Enter file name: \")\n",
        "fh = open(fname)\n",
        "for line in fh:\n",
        "    if not line.startswith(\"X-DSPAM-Confidence:\"):\n",
        "        continue\n",
        "    print(line)\n",
        "print(\"Done\")"
      ],
      "metadata": {
        "id": "h9zev84vhJWN"
      },
      "execution_count": null,
      "outputs": []
    },
    {
      "cell_type": "code",
      "source": [
        "fname = input(\"Enter file name: \")\n",
        "fh = open(fname)\n",
        "count = 0\n",
        "average = 0\n",
        "for line in fh:\n",
        "    if not line.startswith(\"X-DSPAM-Confidence:\") : continue\n",
        "    average += float(line[20:-1].strip())\n",
        "    count = count + 1\n",
        "    #print(line)\n",
        "    \n",
        "print(\"Average spam confidence:\", (average/count))"
      ],
      "metadata": {
        "id": "xN3_Mgq3iSvo"
      },
      "execution_count": null,
      "outputs": []
    },
    {
      "cell_type": "markdown",
      "source": [
        "8.4 Open the file romeo.txt and read it line by line. For each line, split the line into a list of words using the split() method. The program should build a list of words. For each word on each line check to see if the word is already in the list and if not append it to the list. When the program completes, sort and print the resulting words in alphabetical order.\n",
        "You can download the sample data at http://www.py4e.com/code3/romeo.txt"
      ],
      "metadata": {
        "id": "GeC8Q7eoJBVK"
      }
    },
    {
      "cell_type": "code",
      "source": [
        "#example:\n",
        "fname = input(\"Enter file name: \")\n",
        "fh = open(fname)\n",
        "lst = list()\n",
        "for line in fh:\n",
        "print(line.rstrip())"
      ],
      "metadata": {
        "id": "0FQ8TxmOJCqr"
      },
      "execution_count": null,
      "outputs": []
    },
    {
      "cell_type": "code",
      "source": [
        "fname = input(\"Enter file name: \")\n",
        "fh = open(fname)\n",
        "data=[]\n",
        "for each in fh:\n",
        "    words=each.split()\n",
        "    for word in words:\n",
        "        if word not in data:\n",
        "            data.append(word)\n",
        "print(sorted(data))"
      ],
      "metadata": {
        "id": "lFXhPPqOOQAw"
      },
      "execution_count": null,
      "outputs": []
    },
    {
      "cell_type": "markdown",
      "source": [
        "8.5 Open the file mbox-short.txt and read it line by line. When you find a line that starts with 'From ' like the following line:\n",
        "\n",
        "**From stephen.marquard@uct.ac.za Sat Jan  5 09:14:16 2008**\n",
        "\n",
        "You will parse the From line using split() and print out the second word in the line (i.e. the entire address of the person who sent the message). Then print out a count at the end.\n",
        "Hint: make sure not to include the lines that start with 'From:'. Also look at the last line of the sample output to see how to print the count.\n",
        "\n",
        "You can download the sample data at http://www.py4e.com/code3/mbox-short.txt"
      ],
      "metadata": {
        "id": "LKa0kDU6Oou2"
      }
    },
    {
      "cell_type": "code",
      "source": [
        "#example:\n",
        "fname = input(\"Enter file name: \")\n",
        "if len(fname) < 1:\n",
        "    fname = \"mbox-short.txt\"\n",
        "\n",
        "fh = open(fname)\n",
        "count = 0\n",
        "\n",
        "print(\"There were\", count, \"lines in the file with From as the first word\")\n"
      ],
      "metadata": {
        "id": "hsc_wfKfOvb2"
      },
      "execution_count": null,
      "outputs": []
    },
    {
      "cell_type": "code",
      "source": [
        "\n",
        "fname = input(\"Enter file name: \")\n",
        "if len(fname) < 1 : fname = \"mbox-short.txt\"\n",
        "#opening the file\n",
        "fh = open(fname)\n",
        "count = 0\n",
        "#to store the lines\n",
        "data=[]\n",
        "for each in fh:\n",
        "    # To check whether the line have more than two elements space seperated, \n",
        "    if each.startswith(\"From\") and len(each.split())>2:  #startwith function: returns True if the string starts with the specified value, otherwise False.\n",
        "        temp=each.split()\n",
        "        data.append(temp[1])\n",
        "for each in data:\n",
        "    print(each)\n",
        "print(\"There were\", len(data), \"lines in the file with From as the first word\")"
      ],
      "metadata": {
        "id": "wCsdbt1FO0Q5"
      },
      "execution_count": null,
      "outputs": []
    },
    {
      "cell_type": "markdown",
      "source": [
        "9.4 Write a program to read through the mbox-short.txt and figure out who has sent the greatest number of mail messages. The program looks for 'From ' lines and takes the second word of those lines as the person who sent the mail. The program creates a Python dictionary that maps the sender's mail address to a count of the number of times they appear in the file. After the dictionary is produced, the program reads through the dictionary using a maximum loop to find the most prolific committer."
      ],
      "metadata": {
        "id": "3QWRSrdb3b5-"
      }
    },
    {
      "cell_type": "code",
      "source": [
        "#example:\n",
        "name = input(\"Enter file:\")\n",
        "if len(name) < 1:\n",
        "    name = \"mbox-short.txt\"\n",
        "handle = open(name)\n",
        "\n",
        "#desired output:\n",
        "cwen@iupui.edu 5"
      ],
      "metadata": {
        "id": "tj3_VPGP3ct8"
      },
      "execution_count": null,
      "outputs": []
    },
    {
      "cell_type": "code",
      "source": [
        "name = input(\"Enter file:\")\n",
        "if len(name) < 1 : \n",
        "  name = \"mbox-short.txt\"\n",
        "text = open(name)\n",
        "\n",
        "maxauthor = dict()\n",
        "\n",
        "for line in text:\n",
        "    line.rstrip()\n",
        "    if not line.startswith(\"From \"): continue\n",
        "    words = line.split()\n",
        "    maxauthor[words[1]] = maxauthor.get(words[1],0)+1\n",
        "\n",
        "largest = None\n",
        "largest_author = None\n",
        "\n",
        "for key in maxauthor:\n",
        "    if largest is None: largest = maxauthor[key]\n",
        "\n",
        "    if largest < maxauthor[key]:\n",
        "        largest = maxauthor[key]\n",
        "        largest_author = key\n",
        "\n",
        "print(largest_author, largest)"
      ],
      "metadata": {
        "id": "OgYIyNsU8CZR"
      },
      "execution_count": null,
      "outputs": []
    },
    {
      "cell_type": "code",
      "source": [
        "#chapter 9 example:\n",
        "fname=input('Enter File:')\n",
        "if len(fname)＜1： fname='clown.txt'\n",
        "hand=open(fname)\n",
        "\n",
        "di=dict()\n",
        "for lin in hand:\n",
        "    lin=lin.rstrip()\n",
        "    #print(lin)\n",
        "    wds=lin.split()\n",
        "    #print(wds)\n",
        "    for w in wds:\n",
        "      print(w)\n",
        "      if w in di:\n",
        "          di[w]=di[w]+1\n",
        "          print('**Existing**')\n",
        "      else:\n",
        "          di[w]=1\n",
        "          print('**NEW**')\n",
        "      print(w,di[w])\n"
      ],
      "metadata": {
        "id": "7aTEOcDZ8461"
      },
      "execution_count": null,
      "outputs": []
    },
    {
      "cell_type": "markdown",
      "source": [
        "10.2 Write a program to read through the mbox-short.txt and figure out the distribution by hour of the day for each of the messages. You can pull the hour out from the 'From ' line by finding the time and then splitting the string a second time using a colon.\n",
        "\n",
        "**From stephen.marquard@uct.ac.za Sat Jan  5 09:14:16 2008**\n",
        "\n",
        "Once you have accumulated the counts for each hour, print out the counts, sorted by hour as shown below."
      ],
      "metadata": {
        "id": "vv_nbGhZNYnV"
      }
    },
    {
      "cell_type": "code",
      "source": [
        "name = input(\"Enter file:\")\n",
        "if len(name) < 1:\n",
        "    name = \"mbox-short.txt\"\n",
        "handle = open(name)"
      ],
      "metadata": {
        "id": "4m-M4rBSNbjy"
      },
      "execution_count": null,
      "outputs": []
    },
    {
      "cell_type": "code",
      "source": [
        "name = raw_input(\"Enter file:\")\n",
        "if len(name) < 1 : name = \"mbox-short.txt\"\n",
        "handle = open(name)\n",
        "\n",
        "hcount = dict()                                     #create empty dictionary\n",
        "hlst = []                                           #create empty list\n",
        "\n",
        "for line in handle: \n",
        "    words = line.split()\n",
        "    if len(words) > 2 and words[0] == 'From':       #Select lines with 'From'\n",
        "        hr = words[5].split(':')                    #Select hour (5th index) and split string with colon\n",
        "        hcount[hr[0]] = hcount.get(hr[0], 0) + 1    #increase count for each hour\n",
        "    else:\n",
        "        continue\n",
        "\n",
        "for k,v in hcount.items():                           #k = hour, v = count\n",
        "    hlst.append((k,v))                               #append tuples to list\n",
        "\n",
        "hlst.sort()                                         #sort list by hour\n",
        "for k,v in hlst:                                    #loop through list of tuples\n",
        "    print(k,v)                                      #print counts sorted by hour"
      ],
      "metadata": {
        "id": "MKkCqLgMS_Hn"
      },
      "execution_count": null,
      "outputs": []
    },
    {
      "cell_type": "markdown",
      "source": [
        "#  Session 3 :Using Python to Access Web Data\n",
        "\n"
      ],
      "metadata": {
        "id": "bGzINAmLlptA"
      }
    },
    {
      "cell_type": "markdown",
      "source": [
        "\n",
        "\n",
        "*   Matches the beginning of a line\n",
        "\n",
        "**^**\n",
        "*   Matches the end of the line\n",
        "\n",
        "**$**\n",
        "*   Matches any character\n",
        "\n",
        "**.**\n",
        "*   Matches whitespace\n",
        "\n",
        "**\\s**\n",
        "*   Matches any non-whitespace character\n",
        "\n",
        "**\\S**\n",
        "\n",
        "*   Repeats a character zero or more times\n",
        "\n",
        "*\n",
        "*  Repeats a character zero or more times (non-greedy)\n",
        "\n",
        "*?\n",
        "\n",
        "\n",
        "\n",
        "\n",
        "\n",
        "\n",
        "\n",
        "\n"
      ],
      "metadata": {
        "id": "w5cTKPj_IveX"
      }
    },
    {
      "cell_type": "markdown",
      "source": [
        "Assignment 11"
      ],
      "metadata": {
        "id": "k-u-6D93Npyh"
      }
    },
    {
      "cell_type": "markdown",
      "source": [
        "Finding Numbers in a Haystack\n",
        "\n",
        "In this assignment you will read through and parse a file with text and numbers. You will extract all the numbers in the file and compute the sum of the numbers.\n",
        "\n",
        "Data Files\n",
        "We provide two files for this assignment. One is a sample file where we give you the sum for your testing and the other is the actual data you need to process for the assignment.\n",
        "\n",
        "Sample data: http://py4e-data.dr-chuck.net/regex_sum_42.txt (There are 90 values with a sum=445833)\n",
        "\n",
        "Actual data: http://py4e-data.dr-chuck.net/regex_sum_1568464.txt (There are 69 values and the sum ends with 361)\n",
        "\n",
        "These links open in a new window. Make sure to save the file into the same folder as you will be writing your Python program. Note: Each student will have a distinct data file for the assignment - so only use your own data file for analysis.\n",
        "Data Format\n",
        "The file contains much of the text from the introduction of the textbook except that random numbers are inserted throughout the text. Here is a sample of the output you might see:"
      ],
      "metadata": {
        "id": "6_IBQjjONBg7"
      }
    },
    {
      "cell_type": "code",
      "source": [
        "Why should you learn to write programs? 7746\n",
        "12 1929 8827\n",
        "Writing programs (or programming) is a very creative \n",
        "7 and rewarding activity.  You can write programs for \n",
        "many reasons, ranging from making your living to solving\n",
        "8837 a difficult data analysis problem to having fun to helping 128\n",
        "someone else solve a problem.  This book assumes that \n",
        "everyone needs to know how to program ..."
      ],
      "metadata": {
        "id": "mGqVKo00NNvo"
      },
      "execution_count": null,
      "outputs": []
    },
    {
      "cell_type": "markdown",
      "source": [
        "The sum for the sample text above is 27486. The numbers can appear anywhere in the line. There can be any number of numbers in each line (including none).\n",
        "Handling The Data\n",
        "The basic outline of this problem is to read the file, look for integers using the re.findall(), looking for a regular expression of '[0-9]+' and then converting the extracted strings to integers and summing up the integers.\n",
        "\n",
        "\n",
        "\n",
        "Enter the sum from the actual data and your Python code below:\n",
        "\n",
        "Sum: \n",
        "                 \n",
        "                 (ends with 361) \n",
        "\n",
        "Python code:"
      ],
      "metadata": {
        "id": "vBglmaUONOgZ"
      }
    },
    {
      "cell_type": "code",
      "source": [
        "import re\n",
        "fh=open('/Users/xinyiwang/Desktop/regex_sum_1568464.txt')\n",
        "sum=0\n",
        "for line in fh:\n",
        "    line=line.rstrip()\n",
        "    y=re.findall('[0-9]+',line)\n",
        "    for astring in y:\n",
        "      x=int(astring)\n",
        "      sum=sum+x\n",
        "print (sum)\n",
        "\n",
        "#sum=332361"
      ],
      "metadata": {
        "id": "rnJbtl6p6EoZ"
      },
      "execution_count": null,
      "outputs": []
    }
  ]
}